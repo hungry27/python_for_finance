{
 "cells": [
  {
   "cell_type": "code",
   "execution_count": 1,
   "id": "7fab1b96-02d4-4fb4-a0ad-340b714d1f13",
   "metadata": {},
   "outputs": [],
   "source": [
    "import math\n",
    "import numpy as np"
   ]
  },
  {
   "cell_type": "code",
   "execution_count": 2,
   "id": "e34cd9ff-e933-4bb4-a1df-b6a2783fbf83",
   "metadata": {},
   "outputs": [],
   "source": [
    "# parameter Values\n",
    "\n",
    "S0 = 100 #initial index level\n",
    "K = 105 #strike price\n",
    "T = 1.0 #time-to-maturity\n",
    "r = 0.05 #riskless short rate\n",
    "sigma = 0.2 #volatility\n",
    "\n",
    "I = 100000 # number of simulations"
   ]
  },
  {
   "cell_type": "code",
   "execution_count": 3,
   "id": "1c12c8bb-1e86-4e24-9229-5a9b155ad8a4",
   "metadata": {},
   "outputs": [
    {
     "name": "stdout",
     "output_type": "stream",
     "text": [
      "Value of the European call option: 8.044.\n"
     ]
    }
   ],
   "source": [
    "# Valuation Algorithm\n",
    "z = np.random.standard_normal(I)\n",
    "# index values at maturity\n",
    "\n",
    "ST = S0 * np.exp((r - 0.5 * sigma ** 2) * T + sigma * math.sqrt(T) * z)\n",
    "\n",
    "hT = np.maximum(ST - K, 0) #payoff maturity\n",
    "C0 = math.exp(-r * T) * np.mean(hT) #Monte Carlo estimator\n",
    "\n",
    "print('Value of the European call option: {:5.3f}.'.format(C0)) #{:5.3f} means that 5 spaces are used for the float, of which 3 are after the decimal point."
   ]
  },
  {
   "cell_type": "code",
   "execution_count": null,
   "id": "f1dcb6c1-90d4-4f08-92cb-fc85abde7701",
   "metadata": {},
   "outputs": [],
   "source": []
  }
 ],
 "metadata": {
  "kernelspec": {
   "display_name": "Python 3.7.11 64-bit ('myenv': conda)",
   "language": "python",
   "name": "python3711jvsc74a57bd0c611e1be357fa5aada351b0b3f32ca824843092a97ac1e1237e8fecf505d18b0"
  },
  "language_info": {
   "codemirror_mode": {
    "name": "ipython",
    "version": 3
   },
   "file_extension": ".py",
   "mimetype": "text/x-python",
   "name": "python",
   "nbconvert_exporter": "python",
   "pygments_lexer": "ipython3",
   "version": "3.7.11"
  }
 },
 "nbformat": 4,
 "nbformat_minor": 5
}
