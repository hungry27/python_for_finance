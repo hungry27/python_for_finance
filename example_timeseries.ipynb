{
 "cells": [
  {
   "cell_type": "code",
   "execution_count": 1,
   "id": "e81adf89-a58a-47d2-b323-8afdfbee5b05",
   "metadata": {},
   "outputs": [],
   "source": [
    "import eikon as ek"
   ]
  },
  {
   "cell_type": "code",
   "execution_count": 3,
   "id": "c9cc2b6d-f7c2-4e28-906d-a27c4c278a01",
   "metadata": {},
   "outputs": [
    {
     "name": "stderr",
     "output_type": "stream",
     "text": [
      "HTTP request failed: 'NoneType' object has no attribute 'http_request'\n"
     ]
    }
   ],
   "source": [
    "data = ek.get_timeseries('APPL.O', fields ='*',\n",
    "                        start_date='2018-10-18 16:00:00',\n",
    "                        end_date='2018-10-18 17:00:00',\n",
    "                        interval='tick')\n",
    "data"
   ]
  },
  {
   "cell_type": "code",
   "execution_count": null,
   "id": "9de9b21a-66d8-4f46-a0bc-eefef83f1307",
   "metadata": {},
   "outputs": [],
   "source": []
  }
 ],
 "metadata": {
  "kernelspec": {
   "display_name": "stocks",
   "language": "python",
   "name": "stocks"
  },
  "language_info": {
   "codemirror_mode": {
    "name": "ipython",
    "version": 3
   },
   "file_extension": ".py",
   "mimetype": "text/x-python",
   "name": "python",
   "nbconvert_exporter": "python",
   "pygments_lexer": "ipython3",
   "version": "3.8.8"
  }
 },
 "nbformat": 4,
 "nbformat_minor": 5
}
